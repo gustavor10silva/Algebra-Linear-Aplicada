{
 "cells": [
  {
   "cell_type": "markdown",
   "metadata": {},
   "source": [
    "# Lista 2 - Álgebra Linear Aplicada - PPGM UFPR\n",
    "\n",
    "#### Nome: Gustavo Rodrigues da Silva\n",
    "\n",
    "#### Instruções: \n",
    "Para que o notebook funcione corretamente, basta ter o pacote numpy instalado e compilar as células sequencialmente - de cima para baixo."
   ]
  },
  {
   "cell_type": "code",
   "execution_count": 1,
   "metadata": {},
   "outputs": [],
   "source": [
    "# a biblioteca numpy foi importada para auxiliar na criação e operação com matrizes\n",
    "import numpy as np"
   ]
  },
  {
   "cell_type": "markdown",
   "metadata": {},
   "source": [
    "## Exercício 6\n",
    "\n",
    "#### b) Implemente o processo de ortogonalização de Gram-Schmidt. Usando esse código, escreva uma função que calcule a fatoração $QR$ incompleta de uma matriz $A\\in\\mathbb{R}^{m×n}$ com $m\\geq n$."
   ]
  },
  {
   "cell_type": "markdown",
   "metadata": {},
   "source": [
    "Primeiro, será feita a função gram_schmidt( ) para implementar o processo de ortogonalização de Gram-Schmidt:"
   ]
  },
  {
   "cell_type": "code",
   "execution_count": 2,
   "metadata": {},
   "outputs": [],
   "source": [
    "def gram_schmidt(V):\n",
    "    m,n = V.shape\n",
    "    W = np.zeros([m, n])\n",
    "    \n",
    "    # Passo 0. w_1 = v_1\n",
    "    W[:,0] = V[:,0]\n",
    "    \n",
    "    # Passo 1. para i=2,...,n calcule os w_i\n",
    "    for i in range(1,n):\n",
    "        somatorio = np.zeros(m)\n",
    "        for j in range(i):\n",
    "            somatorio = somatorio + (np.dot(V[:,i],W[:,j])/np.dot(W[:,j],W[:,j]))*W[:,j]\n",
    "        W[:,i] = V[:,i] - somatorio\n",
    "    return W"
   ]
  },
  {
   "cell_type": "markdown",
   "metadata": {},
   "source": [
    "#### Teste"
   ]
  },
  {
   "cell_type": "code",
   "execution_count": 61,
   "metadata": {},
   "outputs": [
    {
     "data": {
      "text/plain": [
       "array([[-1, -1,  1],\n",
       "       [ 1,  3,  3],\n",
       "       [-1, -1,  5],\n",
       "       [ 1,  3,  7]])"
      ]
     },
     "execution_count": 61,
     "metadata": {},
     "output_type": "execute_result"
    }
   ],
   "source": [
    "A = np.array([[-1,-1,1],[1,3,3],[-1,-1,5],[1,3,7]])\n",
    "A"
   ]
  },
  {
   "cell_type": "code",
   "execution_count": 62,
   "metadata": {
    "scrolled": true
   },
   "outputs": [
    {
     "data": {
      "text/plain": [
       "array([[-1.,  1., -2.],\n",
       "       [ 1.,  1., -2.],\n",
       "       [-1.,  1.,  2.],\n",
       "       [ 1.,  1.,  2.]])"
      ]
     },
     "execution_count": 62,
     "metadata": {},
     "output_type": "execute_result"
    }
   ],
   "source": [
    "W = gram_schmidt(A)\n",
    "W"
   ]
  },
  {
   "cell_type": "markdown",
   "metadata": {},
   "source": [
    "Note que o conjunto das colunas de $W$ é ortogonal, pois as colunas são ortogonais entre si, como pode-se ver:"
   ]
  },
  {
   "cell_type": "code",
   "execution_count": 55,
   "metadata": {},
   "outputs": [
    {
     "data": {
      "text/plain": [
       "0.0"
      ]
     },
     "execution_count": 55,
     "metadata": {},
     "output_type": "execute_result"
    }
   ],
   "source": [
    "np.dot(W[:,0],W[:,1])"
   ]
  },
  {
   "cell_type": "code",
   "execution_count": 57,
   "metadata": {
    "scrolled": true
   },
   "outputs": [
    {
     "data": {
      "text/plain": [
       "0.0"
      ]
     },
     "execution_count": 57,
     "metadata": {},
     "output_type": "execute_result"
    }
   ],
   "source": [
    "np.dot(W[:,0],W[:,2])"
   ]
  },
  {
   "cell_type": "code",
   "execution_count": 58,
   "metadata": {
    "scrolled": true
   },
   "outputs": [
    {
     "data": {
      "text/plain": [
       "0.0"
      ]
     },
     "execution_count": 58,
     "metadata": {},
     "output_type": "execute_result"
    }
   ],
   "source": [
    "np.dot(W[:,1],W[:,2])"
   ]
  },
  {
   "cell_type": "markdown",
   "metadata": {},
   "source": [
    "Agora, será usada a função gram_schmidt( ) para construir a função QR_incompleta( ), que calcula a fatoração QR incompleta de uma matriz"
   ]
  },
  {
   "cell_type": "code",
   "execution_count": 3,
   "metadata": {},
   "outputs": [],
   "source": [
    "def QR_incompleta(A):\n",
    "    W = gram_schmidt(A)\n",
    "    m,n = A.shape\n",
    "    Q = np.zeros([m,n])\n",
    "    R = np.zeros([n,n])\n",
    "    for j in range(n):\n",
    "        Q[:,j] = W[:,j]/(np.dot(W[:,j],W[:,j]))**(1/2)\n",
    "        for i in range(j+1):\n",
    "            R[i,j] = np.dot(A[:,j], Q[:,i])\n",
    "    return Q,R"
   ]
  },
  {
   "cell_type": "markdown",
   "metadata": {},
   "source": [
    "#### c) Com sua função, calcule uma fatoração QR incompleta da matriz $A = np.array([[-1,-1,1],[1,3,3],[-1,-1,5],[1,3,7]])$"
   ]
  },
  {
   "cell_type": "code",
   "execution_count": 73,
   "metadata": {},
   "outputs": [
    {
     "data": {
      "text/plain": [
       "array([[-1, -1,  1],\n",
       "       [ 1,  3,  3],\n",
       "       [-1, -1,  5],\n",
       "       [ 1,  3,  7]])"
      ]
     },
     "execution_count": 73,
     "metadata": {},
     "output_type": "execute_result"
    }
   ],
   "source": [
    "A"
   ]
  },
  {
   "cell_type": "code",
   "execution_count": 66,
   "metadata": {
    "scrolled": true
   },
   "outputs": [
    {
     "data": {
      "text/plain": [
       "(array([[-0.5,  0.5, -0.5],\n",
       "        [ 0.5,  0.5, -0.5],\n",
       "        [-0.5,  0.5,  0.5],\n",
       "        [ 0.5,  0.5,  0.5]]),\n",
       " array([[2., 4., 2.],\n",
       "        [0., 2., 8.],\n",
       "        [0., 0., 4.]]))"
      ]
     },
     "execution_count": 66,
     "metadata": {},
     "output_type": "execute_result"
    }
   ],
   "source": [
    "Q,R = QR_incompleta(A)\n",
    "Q,R"
   ]
  },
  {
   "cell_type": "markdown",
   "metadata": {},
   "source": [
    "Note que o resultado obtido está correto. A matriz $R$ é triangular superior e $Q$ é ortonormal, pois:"
   ]
  },
  {
   "cell_type": "code",
   "execution_count": 76,
   "metadata": {},
   "outputs": [
    {
     "data": {
      "text/plain": [
       "(0.0, 0.0, 0.0)"
      ]
     },
     "execution_count": 76,
     "metadata": {},
     "output_type": "execute_result"
    }
   ],
   "source": [
    "# as colunas de Q são ortogonais:\n",
    "np.dot(Q[:,0],Q[:,1]), np.dot(Q[:,0],Q[:,2]), np.dot(Q[:,1],Q[:,2])"
   ]
  },
  {
   "cell_type": "code",
   "execution_count": 78,
   "metadata": {
    "scrolled": true
   },
   "outputs": [
    {
     "data": {
      "text/plain": [
       "(1.0, 1.0, 1.0)"
      ]
     },
     "execution_count": 78,
     "metadata": {},
     "output_type": "execute_result"
    }
   ],
   "source": [
    "# as colunas de Q são ortonormais:\n",
    "(np.dot(Q[:,0], Q[:,0]))**(1/2), (np.dot(Q[:,1], Q[:,1]))**(1/2), (np.dot(Q[:,2], Q[:,2]))**(1/2)"
   ]
  },
  {
   "cell_type": "markdown",
   "metadata": {},
   "source": [
    "Além disso, vemos que $QR = A$:"
   ]
  },
  {
   "cell_type": "code",
   "execution_count": 80,
   "metadata": {
    "scrolled": true
   },
   "outputs": [
    {
     "data": {
      "text/plain": [
       "(array([[-1., -1.,  1.],\n",
       "        [ 1.,  3.,  3.],\n",
       "        [-1., -1.,  5.],\n",
       "        [ 1.,  3.,  7.]]),\n",
       " array([[ True,  True,  True],\n",
       "        [ True,  True,  True],\n",
       "        [ True,  True,  True],\n",
       "        [ True,  True,  True]]))"
      ]
     },
     "execution_count": 80,
     "metadata": {},
     "output_type": "execute_result"
    }
   ],
   "source": [
    "np.dot(Q,R), np.dot(Q,R) == A"
   ]
  },
  {
   "cell_type": "markdown",
   "metadata": {},
   "source": [
    "## Exercício 10"
   ]
  },
  {
   "cell_type": "markdown",
   "metadata": {},
   "source": [
    "Usaremos a função que resolve um sistema triangular superior, feita como exercício na lista 1:"
   ]
  },
  {
   "cell_type": "code",
   "execution_count": 12,
   "metadata": {},
   "outputs": [],
   "source": [
    "# A é uma matriz quadrada nxn\n",
    "# b é um vetor coluna nx1\n",
    "# queremos encontrar x (o vetor coluna nx1) tal que Ax = b\n",
    "def substituicao_retroativa(A,b):\n",
    "    n = len(A)\n",
    "    x = np.zeros([n, 1])\n",
    "    \n",
    "    # Passo 1: Calcule x1 = b1/a11\n",
    "    x[n-1,0] = b[n-1,0]/A[n-1,n-1]\n",
    "    \n",
    "    # Passo 2: Para i = n − 1 : 1, calcule xi\n",
    "    for i in reversed(range(n-1)):\n",
    "        somatorio = 0\n",
    "        for j in range(i+1,n):\n",
    "            somatorio = somatorio + A[i,j]*x[j,0]\n",
    "        x[i,0] = (b[i,0] - somatorio)/A[i,i]\n",
    "    return x"
   ]
  },
  {
   "cell_type": "markdown",
   "metadata": {},
   "source": [
    "#### a) Para cada usuário, estime as pontuações $y^{(f)}$ dos filmes não assistidos com base no modelo de regressão linear\n",
    "#### $$y = \\theta_0 + \\theta_1x_1 + \\theta_2x_2$$\n",
    "#### Descreva o problema de mínimos quadrados linear correspondente e obtenha os coeficientes acima usando seus códigos."
   ]
  },
  {
   "cell_type": "markdown",
   "metadata": {},
   "source": [
    "------------------ Carol ------------------"
   ]
  },
  {
   "cell_type": "code",
   "execution_count": 14,
   "metadata": {},
   "outputs": [
    {
     "data": {
      "text/plain": [
       "(array([[1. , 0.1, 1. ],\n",
       "        [1. , 0.8, 0.2],\n",
       "        [1. , 0.6, 0.4],\n",
       "        [1. , 1. , 0.2],\n",
       "        [1. , 0.9, 0.1]]),\n",
       " array([[4. ],\n",
       "        [4. ],\n",
       "        [2.5],\n",
       "        [1. ],\n",
       "        [3.5]]))"
      ]
     },
     "execution_count": 14,
     "metadata": {},
     "output_type": "execute_result"
    }
   ],
   "source": [
    "A_carol = np.array([[1, 0.1, 1], [1, 0.8, 0.2], [1, 0.6, 0.4], [1, 1, 0.2], [1, 0.9, 0.1]])\n",
    "b_carol = np.array([[4],[4],[2.5],[1],[3.5]])\n",
    "A_carol, b_carol"
   ]
  },
  {
   "cell_type": "code",
   "execution_count": 15,
   "metadata": {},
   "outputs": [
    {
     "data": {
      "text/plain": [
       "(array([[ 0.4472136 , -0.81375962,  0.26219214],\n",
       "        [ 0.4472136 ,  0.16836406, -0.34371407],\n",
       "        [ 0.4472136 , -0.11224271, -0.3304943 ],\n",
       "        [ 0.4472136 ,  0.44897083,  0.76234019],\n",
       "        [ 0.4472136 ,  0.30866744, -0.35032396]]),\n",
       " array([[ 2.23606798,  1.52052622,  0.84970583],\n",
       "        [ 0.        ,  0.71274119, -0.70432298],\n",
       "        [ 0.        ,  0.        ,  0.17868725]]))"
      ]
     },
     "execution_count": 15,
     "metadata": {},
     "output_type": "execute_result"
    }
   ],
   "source": [
    "Q_carol,R_carol = QR_incompleta(A_carol)\n",
    "Q_carol,R_carol"
   ]
  },
  {
   "cell_type": "markdown",
   "metadata": {},
   "source": [
    "Queremos resolver o sistema triangular superior $Rx = Q^Tb$ usando $substituicao\\_retroativa(R,Q^Tb)$:"
   ]
  },
  {
   "cell_type": "code",
   "execution_count": 19,
   "metadata": {
    "scrolled": true
   },
   "outputs": [
    {
     "data": {
      "text/plain": [
       "array([[ 13.78606658],\n",
       "       [-10.80764488],\n",
       "       [ -9.04438964]])"
      ]
     },
     "execution_count": 19,
     "metadata": {},
     "output_type": "execute_result"
    }
   ],
   "source": [
    "substituicao_retroativa(R_carol,np.dot(Q_carol.T,b_carol))"
   ]
  },
  {
   "cell_type": "markdown",
   "metadata": {},
   "source": [
    "Uma forma razoável de verificar se os coeficientes obtidos fazem sentido é analisando o comportamento das previsões no conjunto de treinamento. Para tal, vejamos o que o modelo de regressão linear obtido prevê para as pontuações conhecidas da Carol:"
   ]
  },
  {
   "cell_type": "code",
   "execution_count": 83,
   "metadata": {},
   "outputs": [],
   "source": [
    "y_pred = np.zeros([5,1])"
   ]
  },
  {
   "cell_type": "code",
   "execution_count": 84,
   "metadata": {},
   "outputs": [
    {
     "data": {
      "text/plain": [
       "array([3.66091245])"
      ]
     },
     "execution_count": 84,
     "metadata": {},
     "output_type": "execute_result"
    }
   ],
   "source": [
    "# The Notebook\n",
    "y_pred[0] = 13.78606658 -10.80764488*0.1 -9.04438964*1\n",
    "y_pred[0]"
   ]
  },
  {
   "cell_type": "code",
   "execution_count": 85,
   "metadata": {},
   "outputs": [
    {
     "data": {
      "text/plain": [
       "array([3.33107275])"
      ]
     },
     "execution_count": 85,
     "metadata": {},
     "output_type": "execute_result"
    }
   ],
   "source": [
    "# Whiplash\n",
    "y_pred[1] = 13.78606658 -10.80764488*0.8 -9.04438964*0.2\n",
    "y_pred[1]"
   ]
  },
  {
   "cell_type": "code",
   "execution_count": 86,
   "metadata": {},
   "outputs": [
    {
     "data": {
      "text/plain": [
       "array([3.6837238])"
      ]
     },
     "execution_count": 86,
     "metadata": {},
     "output_type": "execute_result"
    }
   ],
   "source": [
    "# Os Miseráveis\n",
    "y_pred[2] = 13.78606658 -10.80764488*0.6 -9.04438964*0.4\n",
    "y_pred[2]"
   ]
  },
  {
   "cell_type": "code",
   "execution_count": 87,
   "metadata": {},
   "outputs": [
    {
     "data": {
      "text/plain": [
       "array([1.16954377])"
      ]
     },
     "execution_count": 87,
     "metadata": {},
     "output_type": "execute_result"
    }
   ],
   "source": [
    "# Rocky I\n",
    "y_pred[3] = 13.78606658 -10.80764488*1 -9.04438964*0.2\n",
    "y_pred[3]"
   ]
  },
  {
   "cell_type": "code",
   "execution_count": 88,
   "metadata": {},
   "outputs": [
    {
     "data": {
      "text/plain": [
       "array([3.15474722])"
      ]
     },
     "execution_count": 88,
     "metadata": {},
     "output_type": "execute_result"
    }
   ],
   "source": [
    "# Toy Story 3\n",
    "y_pred[4] = 13.78606658 -10.80764488*0.9 -9.04438964*0.1\n",
    "y_pred[4]"
   ]
  },
  {
   "cell_type": "markdown",
   "metadata": {},
   "source": [
    "Note que as previsões fazem sentido no conjunto de teste. Podemos ver a diferença entre as notas dadas pela Carol (vetor $b\\_carol$) e as previsões para as respectivas notas (vetor $y\\_pred$):"
   ]
  },
  {
   "cell_type": "code",
   "execution_count": 89,
   "metadata": {},
   "outputs": [
    {
     "data": {
      "text/plain": [
       "(array([[4. ],\n",
       "        [4. ],\n",
       "        [2.5],\n",
       "        [1. ],\n",
       "        [3.5]]),\n",
       " array([[3.66091245],\n",
       "        [3.33107275],\n",
       "        [3.6837238 ],\n",
       "        [1.16954377],\n",
       "        [3.15474722]]))"
      ]
     },
     "execution_count": 89,
     "metadata": {},
     "output_type": "execute_result"
    }
   ],
   "source": [
    "b_carol, y_pred"
   ]
  },
  {
   "cell_type": "markdown",
   "metadata": {},
   "source": [
    "Apesar de não fornecer resultados precisos, o modelo está funcionando. Portanto, uma previsão para a pontuação que a Carol daria para o filme \"Os 8 odiados\", cujo $x_1=1$ e $x_2=0$, é dada por:\n",
    "$$y = \\theta_0 + \\theta_1x_1 + \\theta_2x_2$$"
   ]
  },
  {
   "cell_type": "code",
   "execution_count": 22,
   "metadata": {},
   "outputs": [
    {
     "data": {
      "text/plain": [
       "2.9784217"
      ]
     },
     "execution_count": 22,
     "metadata": {},
     "output_type": "execute_result"
    }
   ],
   "source": [
    "y_carol = 13.78606658 -10.80764488*1 -9.04438964*0\n",
    "y_carol"
   ]
  },
  {
   "cell_type": "markdown",
   "metadata": {},
   "source": [
    "------------------ Lorayne ------------------"
   ]
  },
  {
   "cell_type": "code",
   "execution_count": 23,
   "metadata": {},
   "outputs": [
    {
     "data": {
      "text/plain": [
       "(array([[1. , 0.1, 1. ],\n",
       "        [1. , 0.8, 0.2],\n",
       "        [1. , 0.9, 0.1]]),\n",
       " array([[4. ],\n",
       "        [4.5],\n",
       "        [5. ]]))"
      ]
     },
     "execution_count": 23,
     "metadata": {},
     "output_type": "execute_result"
    }
   ],
   "source": [
    "A_lorayne = np.array([[1, 0.1, 1], [1, 0.8, 0.2], [1, 0.9, 0.1]])\n",
    "b_lorayne = np.array([[4],[4.5],[5]])\n",
    "A_lorayne, b_lorayne"
   ]
  },
  {
   "cell_type": "code",
   "execution_count": 24,
   "metadata": {},
   "outputs": [
    {
     "data": {
      "text/plain": [
       "(array([[ 0.57735027, -0.81110711,  0.09365858],\n",
       "        [ 0.57735027,  0.32444284, -0.74926865],\n",
       "        [ 0.57735027,  0.48666426,  0.65561007]]),\n",
       " array([[ 1.73205081,  1.03923048,  0.75055535],\n",
       "        [ 0.        ,  0.6164414 , -0.69755211],\n",
       "        [ 0.        ,  0.        ,  0.00936586]]))"
      ]
     },
     "execution_count": 24,
     "metadata": {},
     "output_type": "execute_result"
    }
   ],
   "source": [
    "Q_lorayne,R_lorayne = QR_incompleta(A_lorayne)\n",
    "Q_lorayne,R_lorayne"
   ]
  },
  {
   "cell_type": "code",
   "execution_count": 26,
   "metadata": {},
   "outputs": [
    {
     "data": {
      "text/plain": [
       "array([[-29.5],\n",
       "       [ 35. ],\n",
       "       [ 30. ]])"
      ]
     },
     "execution_count": 26,
     "metadata": {},
     "output_type": "execute_result"
    }
   ],
   "source": [
    "substituicao_retroativa(R_lorayne,np.dot(Q_lorayne.T,b_lorayne))"
   ]
  },
  {
   "cell_type": "code",
   "execution_count": 27,
   "metadata": {},
   "outputs": [
    {
     "data": {
      "text/plain": [
       "5.5"
      ]
     },
     "execution_count": 27,
     "metadata": {},
     "output_type": "execute_result"
    }
   ],
   "source": [
    "# Os Oito Odiados\n",
    "-29.5 + 35*1 + 30*0"
   ]
  },
  {
   "cell_type": "code",
   "execution_count": 28,
   "metadata": {},
   "outputs": [
    {
     "data": {
      "text/plain": [
       "3.5"
      ]
     },
     "execution_count": 28,
     "metadata": {},
     "output_type": "execute_result"
    }
   ],
   "source": [
    "# Os Miseráveis\n",
    "-29.5 + 35*0.6 + 30*0.4"
   ]
  },
  {
   "cell_type": "code",
   "execution_count": 29,
   "metadata": {},
   "outputs": [
    {
     "data": {
      "text/plain": [
       "11.5"
      ]
     },
     "execution_count": 29,
     "metadata": {},
     "output_type": "execute_result"
    }
   ],
   "source": [
    "# Rocky I\n",
    "-29.5 + 35*1 + 30*0.2"
   ]
  },
  {
   "cell_type": "markdown",
   "metadata": {},
   "source": [
    "------------------ Wilian ------------------"
   ]
  },
  {
   "cell_type": "code",
   "execution_count": 36,
   "metadata": {},
   "outputs": [
    {
     "data": {
      "text/plain": [
       "(array([[1. , 1. , 0. ],\n",
       "        [1. , 1. , 0.2],\n",
       "        [1. , 0.9, 0.1]]),\n",
       " array([[4.5],\n",
       "        [3.5],\n",
       "        [3. ]]))"
      ]
     },
     "execution_count": 36,
     "metadata": {},
     "output_type": "execute_result"
    }
   ],
   "source": [
    "A_wilian = np.array([[1, 1, 0], [1, 1, 0.2], [1, 0.9, 0.1]])\n",
    "b_wilian = np.array([[4.5],[3.5],[3]])\n",
    "A_wilian, b_wilian"
   ]
  },
  {
   "cell_type": "code",
   "execution_count": 37,
   "metadata": {},
   "outputs": [
    {
     "data": {
      "text/plain": [
       "(array([[ 5.77350269e-01,  4.08248290e-01, -7.07106781e-01],\n",
       "        [ 5.77350269e-01,  4.08248290e-01,  7.07106781e-01],\n",
       "        [ 5.77350269e-01, -8.16496581e-01, -9.81307787e-17]]),\n",
       " array([[1.73205081, 1.67431578, 0.17320508],\n",
       "        [0.        , 0.08164966, 0.        ],\n",
       "        [0.        , 0.        , 0.14142136]]))"
      ]
     },
     "execution_count": 37,
     "metadata": {},
     "output_type": "execute_result"
    }
   ],
   "source": [
    "Q_wilian,R_wilian = QR_incompleta(A_wilian)\n",
    "Q_wilian,R_wilian"
   ]
  },
  {
   "cell_type": "code",
   "execution_count": 38,
   "metadata": {},
   "outputs": [
    {
     "data": {
      "text/plain": [
       "array([[-5.5],\n",
       "       [10. ],\n",
       "       [-5. ]])"
      ]
     },
     "execution_count": 38,
     "metadata": {},
     "output_type": "execute_result"
    }
   ],
   "source": [
    "substituicao_retroativa(R_wilian,np.dot(Q_wilian.T,b_wilian))"
   ]
  },
  {
   "cell_type": "code",
   "execution_count": 42,
   "metadata": {},
   "outputs": [
    {
     "data": {
      "text/plain": [
       "-9.5"
      ]
     },
     "execution_count": 42,
     "metadata": {},
     "output_type": "execute_result"
    }
   ],
   "source": [
    "# The Notebook\n",
    "-5.5 + 10*0.1 -5*1"
   ]
  },
  {
   "cell_type": "code",
   "execution_count": 43,
   "metadata": {},
   "outputs": [
    {
     "data": {
      "text/plain": [
       "1.5"
      ]
     },
     "execution_count": 43,
     "metadata": {},
     "output_type": "execute_result"
    }
   ],
   "source": [
    "# Whiplash\n",
    "-5.5 + 10*0.8 -5*0.2"
   ]
  },
  {
   "cell_type": "code",
   "execution_count": 41,
   "metadata": {},
   "outputs": [],
   "source": [
    "# Os Miseráveis"
   ]
  },
  {
   "cell_type": "code",
   "execution_count": 44,
   "metadata": {},
   "outputs": [
    {
     "data": {
      "text/plain": [
       "-1.5"
      ]
     },
     "execution_count": 44,
     "metadata": {},
     "output_type": "execute_result"
    }
   ],
   "source": [
    "-5.5 + 10*0.6 -5*0.4"
   ]
  },
  {
   "cell_type": "markdown",
   "metadata": {},
   "source": [
    "------------------ Manu ------------------"
   ]
  },
  {
   "cell_type": "code",
   "execution_count": 48,
   "metadata": {},
   "outputs": [
    {
     "data": {
      "text/plain": [
       "(array([[1. , 0.6, 0.4],\n",
       "        [1. , 1. , 0.2],\n",
       "        [1. , 0.9, 0.1]]),\n",
       " array([[5. ],\n",
       "        [4.5],\n",
       "        [5. ]]))"
      ]
     },
     "execution_count": 48,
     "metadata": {},
     "output_type": "execute_result"
    }
   ],
   "source": [
    "A_manu = np.array([[1, 0.6, 0.4], [1, 1, 0.2], [1, 0.9, 0.1]])\n",
    "b_manu = np.array([[5],[4.5],[5]])\n",
    "A_manu, b_manu"
   ]
  },
  {
   "cell_type": "code",
   "execution_count": 49,
   "metadata": {},
   "outputs": [
    {
     "data": {
      "text/plain": [
       "(array([[ 0.57735027, -0.79259392,  0.19611614],\n",
       "        [ 0.57735027,  0.56613852,  0.58834841],\n",
       "        [ 0.57735027,  0.22645541, -0.78446454]]),\n",
       " array([[ 1.73205081,  1.44337567,  0.40414519],\n",
       "        [ 0.        ,  0.29439203, -0.18116433],\n",
       "        [ 0.        ,  0.        ,  0.11766968]]))"
      ]
     },
     "execution_count": 49,
     "metadata": {},
     "output_type": "execute_result"
    }
   ],
   "source": [
    "Q_manu,R_manu = QR_incompleta(A_manu)\n",
    "Q_manu,R_manu"
   ]
  },
  {
   "cell_type": "code",
   "execution_count": 51,
   "metadata": {},
   "outputs": [
    {
     "data": {
      "text/plain": [
       "array([[ 7.5],\n",
       "       [-2.5],\n",
       "       [-2.5]])"
      ]
     },
     "execution_count": 51,
     "metadata": {},
     "output_type": "execute_result"
    }
   ],
   "source": [
    "substituicao_retroativa(R_manu,np.dot(Q_manu.T,b_manu))"
   ]
  },
  {
   "cell_type": "code",
   "execution_count": 55,
   "metadata": {},
   "outputs": [
    {
     "data": {
      "text/plain": [
       "4.75"
      ]
     },
     "execution_count": 55,
     "metadata": {},
     "output_type": "execute_result"
    }
   ],
   "source": [
    "# The Notebook\n",
    "7.5 -2.5*0.1 -2.5*1"
   ]
  },
  {
   "cell_type": "code",
   "execution_count": 56,
   "metadata": {},
   "outputs": [
    {
     "data": {
      "text/plain": [
       "5.0"
      ]
     },
     "execution_count": 56,
     "metadata": {},
     "output_type": "execute_result"
    }
   ],
   "source": [
    "# Whiplash\n",
    "7.5 -2.5*0.8 -2.5*0.2"
   ]
  },
  {
   "cell_type": "code",
   "execution_count": 57,
   "metadata": {},
   "outputs": [
    {
     "data": {
      "text/plain": [
       "5.0"
      ]
     },
     "execution_count": 57,
     "metadata": {},
     "output_type": "execute_result"
    }
   ],
   "source": [
    "# Os Oito Odiados\n",
    "7.5 -2.5*1 -2.5*0"
   ]
  },
  {
   "cell_type": "markdown",
   "metadata": {},
   "source": [
    "------------------ Thayse ------------------"
   ]
  },
  {
   "cell_type": "code",
   "execution_count": 59,
   "metadata": {},
   "outputs": [
    {
     "data": {
      "text/plain": [
       "(array([[1. , 0.1, 1. ],\n",
       "        [1. , 0.8, 0.2],\n",
       "        [1. , 1. , 0. ],\n",
       "        [1. , 1. , 0.2],\n",
       "        [1. , 0.9, 0.1]]),\n",
       " array([[3.5],\n",
       "        [4.5],\n",
       "        [5. ],\n",
       "        [5. ],\n",
       "        [5. ]]))"
      ]
     },
     "execution_count": 59,
     "metadata": {},
     "output_type": "execute_result"
    }
   ],
   "source": [
    "A_thayse = np.array([[1, 0.1, 1], [1, 0.8, 0.2], [1, 1, 0], [1, 1, 0.2], [1, 0.9, 0.1]])\n",
    "b_thayse = np.array([[3.5],[4.5],[5],[5],[5]])\n",
    "A_thayse, b_thayse"
   ]
  },
  {
   "cell_type": "code",
   "execution_count": 60,
   "metadata": {},
   "outputs": [
    {
     "data": {
      "text/plain": [
       "(array([[ 0.4472136 , -0.87266171,  0.10846755],\n",
       "        [ 0.4472136 ,  0.05288859, -0.33131906],\n",
       "        [ 0.4472136 ,  0.31733153, -0.29582059],\n",
       "        [ 0.4472136 ,  0.31733153,  0.83224192],\n",
       "        [ 0.4472136 ,  0.18511006, -0.31356982]]),\n",
       " array([[ 2.23606798,  1.69941166,  0.67082039],\n",
       "        [ 0.        ,  0.75630682, -0.78010668],\n",
       "        [ 0.        ,  0.        ,  0.17729514]]))"
      ]
     },
     "execution_count": 60,
     "metadata": {},
     "output_type": "execute_result"
    }
   ],
   "source": [
    "Q_thayse,R_thayse = QR_incompleta(A_thayse)\n",
    "Q_thayse,R_thayse"
   ]
  },
  {
   "cell_type": "code",
   "execution_count": 62,
   "metadata": {},
   "outputs": [
    {
     "data": {
      "text/plain": [
       "array([[3.29310345],\n",
       "       [1.71301446],\n",
       "       [0.01668521]])"
      ]
     },
     "execution_count": 62,
     "metadata": {},
     "output_type": "execute_result"
    }
   ],
   "source": [
    "substituicao_retroativa(R_thayse,np.dot(Q_thayse.T,b_thayse))"
   ]
  },
  {
   "cell_type": "code",
   "execution_count": 63,
   "metadata": {},
   "outputs": [
    {
     "data": {
      "text/plain": [
       "4.32758621"
      ]
     },
     "execution_count": 63,
     "metadata": {},
     "output_type": "execute_result"
    }
   ],
   "source": [
    "# Os Miseráveis\n",
    "3.29310345 + 1.71301446*0.6 + 0.01668521*0.4"
   ]
  }
 ],
 "metadata": {
  "kernelspec": {
   "display_name": "Python 3",
   "language": "python",
   "name": "python3"
  },
  "language_info": {
   "codemirror_mode": {
    "name": "ipython",
    "version": 3
   },
   "file_extension": ".py",
   "mimetype": "text/x-python",
   "name": "python",
   "nbconvert_exporter": "python",
   "pygments_lexer": "ipython3",
   "version": "3.8.5"
  }
 },
 "nbformat": 4,
 "nbformat_minor": 4
}
