{
 "cells": [
  {
   "cell_type": "markdown",
   "metadata": {},
   "source": [
    "## Exercício 1\n",
    "\n",
    "#### Implemente os algoritmos de substituição direta e retroativa para solução de sistemas lineares da forma triangular inferior e superior, respectivamente."
   ]
  },
  {
   "cell_type": "markdown",
   "metadata": {},
   "source": [
    "Algoritmo de substituição direta para solução de sistemas lineares da forma triangular inferior:"
   ]
  },
  {
   "cell_type": "code",
   "execution_count": 109,
   "metadata": {},
   "outputs": [],
   "source": [
    "import numpy as np"
   ]
  },
  {
   "cell_type": "code",
   "execution_count": 110,
   "metadata": {},
   "outputs": [],
   "source": [
    "# A é uma matriz quadrada nxn\n",
    "# b é um vetor coluna nx1\n",
    "# queremos encontrar x (o vetor coluna nx1) tal que Ax = b\n",
    "def substituicao_direta(A,b):\n",
    "    n = len(A)\n",
    "    x = np.zeros([n, 1])\n",
    "    \n",
    "    # Passo 1: Calcule x1 = b1/a11\n",
    "    x[0,0] = b[0,0]/A[0,0]\n",
    "    \n",
    "    # Passo 2: Para i = 2 : n, calcule xi\n",
    "    for i in range(1,n):\n",
    "        somatorio = 0\n",
    "        for j in range(i):\n",
    "            somatorio = somatorio + A[i,j]*x[j,0]\n",
    "        x[i,0] = (b[i,0] - somatorio)/A[i,i]\n",
    "    return x"
   ]
  },
  {
   "cell_type": "markdown",
   "metadata": {},
   "source": [
    "#### Teste 1"
   ]
  },
  {
   "cell_type": "code",
   "execution_count": 111,
   "metadata": {},
   "outputs": [
    {
     "data": {
      "text/plain": [
       "(matrix([[1, 0, 0],\n",
       "         [1, 2, 0],\n",
       "         [1, 2, 3]]),\n",
       " matrix([[4],\n",
       "         [5],\n",
       "         [6]]))"
      ]
     },
     "execution_count": 111,
     "metadata": {},
     "output_type": "execute_result"
    }
   ],
   "source": [
    "A = np.matrix([[1,0,0], [1,2,0], [1,2,3]])\n",
    "b = np.matrix([[4], [5], [6]])\n",
    "A, b"
   ]
  },
  {
   "cell_type": "code",
   "execution_count": 112,
   "metadata": {},
   "outputs": [
    {
     "data": {
      "text/plain": [
       "array([[4.        ],\n",
       "       [0.5       ],\n",
       "       [0.33333333]])"
      ]
     },
     "execution_count": 112,
     "metadata": {},
     "output_type": "execute_result"
    }
   ],
   "source": [
    "x = substituicao_direta(A,b)\n",
    "x"
   ]
  },
  {
   "cell_type": "code",
   "execution_count": 113,
   "metadata": {
    "scrolled": true
   },
   "outputs": [
    {
     "data": {
      "text/plain": [
       "matrix([[4.],\n",
       "        [5.],\n",
       "        [6.]])"
      ]
     },
     "execution_count": 113,
     "metadata": {},
     "output_type": "execute_result"
    }
   ],
   "source": [
    "A*x"
   ]
  },
  {
   "cell_type": "markdown",
   "metadata": {},
   "source": [
    "#### Teste 2"
   ]
  },
  {
   "cell_type": "code",
   "execution_count": 114,
   "metadata": {},
   "outputs": [
    {
     "data": {
      "text/plain": [
       "(matrix([[ 4,  0,  0],\n",
       "         [-2,  5,  0],\n",
       "         [ 1,  7,  3]]),\n",
       " matrix([[-2],\n",
       "         [ 5],\n",
       "         [ 6]]))"
      ]
     },
     "execution_count": 114,
     "metadata": {},
     "output_type": "execute_result"
    }
   ],
   "source": [
    "A = np.matrix([[4,0,0], [-2,5,0], [1,7,3]])\n",
    "b = np.matrix([[-2], [5], [6]])\n",
    "A, b"
   ]
  },
  {
   "cell_type": "code",
   "execution_count": 115,
   "metadata": {},
   "outputs": [
    {
     "data": {
      "text/plain": [
       "array([[-0.5],\n",
       "       [ 0.8],\n",
       "       [ 0.3]])"
      ]
     },
     "execution_count": 115,
     "metadata": {},
     "output_type": "execute_result"
    }
   ],
   "source": [
    "x = substituicao_direta(A,b)\n",
    "x"
   ]
  },
  {
   "cell_type": "code",
   "execution_count": 116,
   "metadata": {},
   "outputs": [
    {
     "data": {
      "text/plain": [
       "matrix([[-2.],\n",
       "        [ 5.],\n",
       "        [ 6.]])"
      ]
     },
     "execution_count": 116,
     "metadata": {},
     "output_type": "execute_result"
    }
   ],
   "source": [
    "A * x"
   ]
  },
  {
   "cell_type": "markdown",
   "metadata": {},
   "source": [
    "Algoritmo de substituição retroativa para solução de sistemas lineares da forma triangular superior:"
   ]
  },
  {
   "cell_type": "code",
   "execution_count": 117,
   "metadata": {},
   "outputs": [],
   "source": [
    "# A é uma matriz quadrada nxn\n",
    "# b é um vetor coluna nx1\n",
    "# queremos encontrar x (o vetor coluna nx1) tal que Ax = b\n",
    "def substituicao_retroativa(A,b):\n",
    "    n = len(A)\n",
    "    x = np.zeros([n, 1])\n",
    "    \n",
    "    # Passo 1: Calcule x1 = b1/a11\n",
    "    x[n-1,0] = b[n-1,0]/A[n-1,n-1]\n",
    "    \n",
    "    # Passo 2: Para i = n − 1 : 1, calcule xi\n",
    "    for i in reversed(range(n-1)):\n",
    "        somatorio = 0\n",
    "        for j in range(i+1,n):\n",
    "            somatorio = somatorio + A[i,j]*x[j,0]\n",
    "        x[i,0] = (b[i,0] - somatorio)/A[i,i]\n",
    "    return x"
   ]
  },
  {
   "cell_type": "markdown",
   "metadata": {},
   "source": [
    "#### Teste 1"
   ]
  },
  {
   "cell_type": "code",
   "execution_count": 118,
   "metadata": {},
   "outputs": [
    {
     "data": {
      "text/plain": [
       "(matrix([[3, 2],\n",
       "         [0, 2]]),\n",
       " matrix([[5],\n",
       "         [2]]))"
      ]
     },
     "execution_count": 118,
     "metadata": {},
     "output_type": "execute_result"
    }
   ],
   "source": [
    "A = np.matrix([[3,2], [0,2]])\n",
    "b = np.matrix([[5], [2]])\n",
    "A, b"
   ]
  },
  {
   "cell_type": "code",
   "execution_count": 119,
   "metadata": {},
   "outputs": [
    {
     "data": {
      "text/plain": [
       "array([[1.],\n",
       "       [1.]])"
      ]
     },
     "execution_count": 119,
     "metadata": {},
     "output_type": "execute_result"
    }
   ],
   "source": [
    "x = substituicao_retroativa(A,b)\n",
    "x"
   ]
  },
  {
   "cell_type": "code",
   "execution_count": 120,
   "metadata": {},
   "outputs": [
    {
     "data": {
      "text/plain": [
       "matrix([[5.],\n",
       "        [2.]])"
      ]
     },
     "execution_count": 120,
     "metadata": {},
     "output_type": "execute_result"
    }
   ],
   "source": [
    "A*x"
   ]
  },
  {
   "cell_type": "markdown",
   "metadata": {},
   "source": [
    "#### Teste 2"
   ]
  },
  {
   "cell_type": "code",
   "execution_count": 121,
   "metadata": {},
   "outputs": [
    {
     "data": {
      "text/plain": [
       "(matrix([[ 3.    ,  1.    ,  1.    ,  1.    ],\n",
       "         [ 0.    ,  1.6667,  0.6667,  1.6667],\n",
       "         [ 0.    ,  0.    ,  0.4   ,  0.    ],\n",
       "         [ 0.    ,  0.    ,  0.    , -1.0001]]),\n",
       " matrix([[ 6.    ],\n",
       "         [ 4.0002],\n",
       "         [ 0.4001],\n",
       "         [-1.0003]]))"
      ]
     },
     "execution_count": 121,
     "metadata": {},
     "output_type": "execute_result"
    }
   ],
   "source": [
    "A = np.matrix([[3,1,1,1], [0,1.6667, 0.6667, 1.6667], [0, 0, 0.4, 0], [0, 0, 0, -1.0001]])\n",
    "b = np.matrix([[6], [4.0002], [0.4001], [-1.0003]])\n",
    "A, b"
   ]
  },
  {
   "cell_type": "code",
   "execution_count": 122,
   "metadata": {},
   "outputs": [
    {
     "data": {
      "text/plain": [
       "array([[0.99993   ],\n",
       "       [0.99976002],\n",
       "       [1.00025   ],\n",
       "       [1.00019998]])"
      ]
     },
     "execution_count": 122,
     "metadata": {},
     "output_type": "execute_result"
    }
   ],
   "source": [
    "x = substituicao_retroativa(A,b)\n",
    "x"
   ]
  },
  {
   "cell_type": "code",
   "execution_count": 123,
   "metadata": {
    "scrolled": true
   },
   "outputs": [
    {
     "data": {
      "text/plain": [
       "matrix([[ 6.    ],\n",
       "        [ 4.0002],\n",
       "        [ 0.4001],\n",
       "        [-1.0003]])"
      ]
     },
     "execution_count": 123,
     "metadata": {},
     "output_type": "execute_result"
    }
   ],
   "source": [
    "A*x"
   ]
  },
  {
   "cell_type": "markdown",
   "metadata": {},
   "source": [
    "## Exercício 7\n",
    "\n",
    "#### a) Escreva uma função fatoracaoLU(A) que recebe uma matriz $A\\in R_{n×n}$ e retorna os fatores L e U da fatoração LU de A"
   ]
  },
  {
   "cell_type": "code",
   "execution_count": 138,
   "metadata": {},
   "outputs": [],
   "source": [
    "def fatoracaoLU(A):\n",
    "    # Passo 0. Defina lii = 1 para i = 1, . . . , n, lij = 0 para todo i < j, e uij = 0 para todo i > j.\n",
    "    n = len(A)\n",
    "    L = np.eye(n,n)\n",
    "    U = np.zeros([n,n])\n",
    "    \n",
    "    #Passo 1. Defina u1j = a1j para j = 1, . . . , n.\n",
    "    for j in range(n):\n",
    "        U[0,j] = A[0,j]\n",
    "        \n",
    "    # Passo 2. Calcule li1 = ai1/u11 para i = 2, . . . , n.\n",
    "    for i in range(1, n):\n",
    "        L[i,0] = A[i,0]/U[0,0]\n",
    "        \n",
    "    # Passo 3. Para p = 2, . . . , n, calcule upj\n",
    "    for p in range(1,n):\n",
    "        for j in range(p,n):\n",
    "            somatorio = 0\n",
    "            for k in range(p):\n",
    "                somatorio = somatorio + L[p,k]*U[k,j]\n",
    "            U[p,j] = A[p,j] - somatorio\n",
    "        if p<n:\n",
    "            for i in range(p+1,n):\n",
    "                somatorio = 0\n",
    "                for k in range(p):\n",
    "                    somatorio = somatorio + L[i,k]*U[k,p]\n",
    "                L[i,p] = (A[i,p] - somatorio)/U[p,p]\n",
    "    return L,U"
   ]
  },
  {
   "cell_type": "markdown",
   "metadata": {},
   "source": [
    "#### Teste 1"
   ]
  },
  {
   "cell_type": "code",
   "execution_count": 148,
   "metadata": {},
   "outputs": [
    {
     "data": {
      "text/plain": [
       "matrix([[ 3,  2,  4],\n",
       "        [ 1,  1,  2],\n",
       "        [ 4,  3, -2]])"
      ]
     },
     "execution_count": 148,
     "metadata": {},
     "output_type": "execute_result"
    }
   ],
   "source": [
    "A = np.matrix([[3,2,4], [1,1,2], [4,3,-2]])\n",
    "A"
   ]
  },
  {
   "cell_type": "code",
   "execution_count": 149,
   "metadata": {
    "scrolled": true
   },
   "outputs": [
    {
     "data": {
      "text/plain": [
       "(array([[1.        , 0.        , 0.        ],\n",
       "        [0.33333333, 1.        , 0.        ],\n",
       "        [1.33333333, 1.        , 1.        ]]),\n",
       " array([[ 3.        ,  2.        ,  4.        ],\n",
       "        [ 0.        ,  0.33333333,  0.66666667],\n",
       "        [ 0.        ,  0.        , -8.        ]]))"
      ]
     },
     "execution_count": 149,
     "metadata": {},
     "output_type": "execute_result"
    }
   ],
   "source": [
    "L,U = fatoracaoLU(A)\n",
    "L,U"
   ]
  },
  {
   "cell_type": "code",
   "execution_count": 150,
   "metadata": {},
   "outputs": [
    {
     "data": {
      "text/plain": [
       "array([[ 3.,  2.,  4.],\n",
       "       [ 1.,  1.,  2.],\n",
       "       [ 4.,  3., -2.]])"
      ]
     },
     "execution_count": 150,
     "metadata": {},
     "output_type": "execute_result"
    }
   ],
   "source": [
    "np.dot(L,U)"
   ]
  },
  {
   "cell_type": "markdown",
   "metadata": {},
   "source": [
    "#### Teste 2"
   ]
  },
  {
   "cell_type": "code",
   "execution_count": 151,
   "metadata": {},
   "outputs": [
    {
     "data": {
      "text/plain": [
       "matrix([[ 1,  2,  1],\n",
       "        [ 2, -3, -1],\n",
       "        [ 3, -1, -2]])"
      ]
     },
     "execution_count": 151,
     "metadata": {},
     "output_type": "execute_result"
    }
   ],
   "source": [
    "B = np.matrix([[1,2,1], [2,-3,-1], [3,-1,-2]])\n",
    "B"
   ]
  },
  {
   "cell_type": "code",
   "execution_count": 154,
   "metadata": {},
   "outputs": [
    {
     "data": {
      "text/plain": [
       "(array([[1., 0., 0.],\n",
       "        [2., 1., 0.],\n",
       "        [3., 1., 1.]]),\n",
       " array([[ 1.,  2.,  1.],\n",
       "        [ 0., -7., -3.],\n",
       "        [ 0.,  0., -2.]]))"
      ]
     },
     "execution_count": 154,
     "metadata": {},
     "output_type": "execute_result"
    }
   ],
   "source": [
    "L, U = fatoracaoLU(B)\n",
    "L, U"
   ]
  },
  {
   "cell_type": "code",
   "execution_count": 155,
   "metadata": {},
   "outputs": [
    {
     "data": {
      "text/plain": [
       "array([[ 1.,  2.,  1.],\n",
       "       [ 2., -3., -1.],\n",
       "       [ 3., -1., -2.]])"
      ]
     },
     "execution_count": 155,
     "metadata": {},
     "output_type": "execute_result"
    }
   ],
   "source": [
    "np.dot(L,U)"
   ]
  },
  {
   "cell_type": "markdown",
   "metadata": {},
   "source": [
    "#### b) Usando o código do item (a), escreva uma função sistemaLinear1(A, b) que recebe uma matriz $A\\in R_{nxn}$ não-singular e um vetor $b\\in R^{n}$, e retorna a solução x do sistema linear Ax = b."
   ]
  },
  {
   "cell_type": "code",
   "execution_count": 156,
   "metadata": {},
   "outputs": [],
   "source": [
    "def sistemaLinear1(A, b):\n",
    "    L,U = fatoracaoLU(A)\n",
    "    # Passo 1. Resolva o sistema triangular inferior Ly = b.\n",
    "    y = substituicao_direta(L,b)\n",
    "    # Passo 2. Resolva o sistema triangular superior Ux = y.\n",
    "    x = substituicao_retroativa(U,y)\n",
    "    return x"
   ]
  },
  {
   "cell_type": "markdown",
   "metadata": {},
   "source": [
    "#### c) Usando os códigos dos itens (a) e (b), calcule a fatoração LU da matriz A = [[1 2 1], [2 7 6], [3 18 27]] e resolva o sistema linear Ax = b com $b = [4, 15, 18]^{T}$"
   ]
  },
  {
   "cell_type": "code",
   "execution_count": 164,
   "metadata": {},
   "outputs": [],
   "source": [
    "A = np.array([[1, 2, 1], [2, 7, 6], [3, 18, 27]])\n",
    "b = np.array([[4], [15], [18]])"
   ]
  },
  {
   "cell_type": "markdown",
   "metadata": {},
   "source": [
    "Calculando a fatoração LU da matriz A:"
   ]
  },
  {
   "cell_type": "code",
   "execution_count": 161,
   "metadata": {},
   "outputs": [
    {
     "data": {
      "text/plain": [
       "(array([[1., 0., 0.],\n",
       "        [2., 1., 0.],\n",
       "        [3., 4., 1.]]),\n",
       " array([[1., 2., 1.],\n",
       "        [0., 3., 4.],\n",
       "        [0., 0., 8.]]))"
      ]
     },
     "execution_count": 161,
     "metadata": {},
     "output_type": "execute_result"
    }
   ],
   "source": [
    "L,U = fatoracaoLU(A)\n",
    "L,U"
   ]
  },
  {
   "cell_type": "code",
   "execution_count": 168,
   "metadata": {
    "scrolled": true
   },
   "outputs": [
    {
     "data": {
      "text/plain": [
       "array([[ 1.,  2.,  1.],\n",
       "       [ 2.,  7.,  6.],\n",
       "       [ 3., 18., 27.]])"
      ]
     },
     "execution_count": 168,
     "metadata": {},
     "output_type": "execute_result"
    }
   ],
   "source": [
    "# prova real\n",
    "np.dot(L,U)"
   ]
  },
  {
   "cell_type": "markdown",
   "metadata": {},
   "source": [
    "Resolvendo o sistema linear $Ax = b$ com $𝑏=[4,15,18]^{T}$ "
   ]
  },
  {
   "cell_type": "code",
   "execution_count": 166,
   "metadata": {},
   "outputs": [
    {
     "data": {
      "text/plain": [
       "array([[-5.25],\n",
       "       [ 6.  ],\n",
       "       [-2.75]])"
      ]
     },
     "execution_count": 166,
     "metadata": {},
     "output_type": "execute_result"
    }
   ],
   "source": [
    "x = sistemaLinear1(A, b)\n",
    "x"
   ]
  },
  {
   "cell_type": "code",
   "execution_count": 167,
   "metadata": {
    "scrolled": true
   },
   "outputs": [
    {
     "data": {
      "text/plain": [
       "array([[ 4.],\n",
       "       [15.],\n",
       "       [18.]])"
      ]
     },
     "execution_count": 167,
     "metadata": {},
     "output_type": "execute_result"
    }
   ],
   "source": [
    "# prova real\n",
    "np.dot(A,x)"
   ]
  },
  {
   "cell_type": "markdown",
   "metadata": {},
   "source": [
    "## Exercício 10\n",
    "\n",
    "#### a) Escreva uma função $[G] = fatoracaoCholesky(A)$ que recebe uma matriz $A\\in R_{nxn}$ e retorna $G$ triangular inferior tal que $A = GG^{T}$"
   ]
  },
  {
   "cell_type": "code",
   "execution_count": 179,
   "metadata": {},
   "outputs": [],
   "source": [
    "def fatoracaoCholesky(A):\n",
    "    n = len(A)\n",
    "    G = np.zeros([n,n])\n",
    "    # Passo 0. Calcule g11 = √a11 e gi1 = ai1/g11 para i = 2, . . . , n.\n",
    "    G[0,0] = A[0,0]**(1/2)\n",
    "    for i in range(1,n):\n",
    "        G[i,0] = A[i,0]/G[0,0]\n",
    "        \n",
    "    # Passo 1. Para k = 2, . . . , n:\n",
    "    for k in range(1,n):\n",
    "        # calcule gkk\n",
    "        somatorio = 0\n",
    "        for j in range(k):\n",
    "            somatorio = somatorio + G[k,j]**2\n",
    "        G[k,k] = (A[k,k] - somatorio)**(1/2)\n",
    "        \n",
    "        # Para i = (k + 1), . . . , n, calcule\n",
    "        for i in range(k+1,n):\n",
    "            somatorio = 0\n",
    "            for j in range(k):\n",
    "                somatorio = somatorio + G[i,j]*G[k,j]\n",
    "            G[i,k] = (A[i,k] - somatorio)/G[k,k]\n",
    "    return G"
   ]
  },
  {
   "cell_type": "markdown",
   "metadata": {},
   "source": [
    "#### Teste 1"
   ]
  },
  {
   "cell_type": "code",
   "execution_count": 188,
   "metadata": {},
   "outputs": [
    {
     "data": {
      "text/plain": [
       "array([[  4,  12, -16],\n",
       "       [ 12,  37, -43],\n",
       "       [-16, -43,  98]])"
      ]
     },
     "execution_count": 188,
     "metadata": {},
     "output_type": "execute_result"
    }
   ],
   "source": [
    "A = np.array([[4, 12, -16], [12, 37, -43], [-16, -43, 98]])\n",
    "A"
   ]
  },
  {
   "cell_type": "code",
   "execution_count": 189,
   "metadata": {},
   "outputs": [
    {
     "data": {
      "text/plain": [
       "array([[ 2.,  0.,  0.],\n",
       "       [ 6.,  1.,  0.],\n",
       "       [-8.,  5.,  3.]])"
      ]
     },
     "execution_count": 189,
     "metadata": {},
     "output_type": "execute_result"
    }
   ],
   "source": [
    "G = fatoracaoCholesky(A)\n",
    "G"
   ]
  },
  {
   "cell_type": "code",
   "execution_count": 190,
   "metadata": {},
   "outputs": [
    {
     "data": {
      "text/plain": [
       "array([[ 2.,  6., -8.],\n",
       "       [ 0.,  1.,  5.],\n",
       "       [ 0.,  0.,  3.]])"
      ]
     },
     "execution_count": 190,
     "metadata": {},
     "output_type": "execute_result"
    }
   ],
   "source": [
    "GT = np.transpose(G)\n",
    "GT"
   ]
  },
  {
   "cell_type": "code",
   "execution_count": 192,
   "metadata": {},
   "outputs": [
    {
     "data": {
      "text/plain": [
       "array([[  4.,  12., -16.],\n",
       "       [ 12.,  37., -43.],\n",
       "       [-16., -43.,  98.]])"
      ]
     },
     "execution_count": 192,
     "metadata": {},
     "output_type": "execute_result"
    }
   ],
   "source": [
    "# prova real\n",
    "np.dot(G,GT)"
   ]
  },
  {
   "cell_type": "markdown",
   "metadata": {},
   "source": [
    "#### Lista 2"
   ]
  },
  {
   "cell_type": "code",
   "execution_count": 193,
   "metadata": {},
   "outputs": [
    {
     "data": {
      "text/plain": [
       "array([[ 9, -6,  3],\n",
       "       [-6, 29, -7],\n",
       "       [ 3, -7, 18]])"
      ]
     },
     "execution_count": 193,
     "metadata": {},
     "output_type": "execute_result"
    }
   ],
   "source": [
    "B = np.array([[9, -6, 3], [-6, 29, -7], [3, -7, 18]])\n",
    "B"
   ]
  },
  {
   "cell_type": "code",
   "execution_count": 194,
   "metadata": {},
   "outputs": [
    {
     "data": {
      "text/plain": [
       "array([[ 3.,  0.,  0.],\n",
       "       [-2.,  5.,  0.],\n",
       "       [ 1., -1.,  4.]])"
      ]
     },
     "execution_count": 194,
     "metadata": {},
     "output_type": "execute_result"
    }
   ],
   "source": [
    "G = fatoracaoCholesky(B)\n",
    "G"
   ]
  },
  {
   "cell_type": "code",
   "execution_count": 196,
   "metadata": {},
   "outputs": [
    {
     "data": {
      "text/plain": [
       "array([[ 3., -2.,  1.],\n",
       "       [ 0.,  5., -1.],\n",
       "       [ 0.,  0.,  4.]])"
      ]
     },
     "execution_count": 196,
     "metadata": {},
     "output_type": "execute_result"
    }
   ],
   "source": [
    "GT = np.transpose(G)\n",
    "GT"
   ]
  },
  {
   "cell_type": "code",
   "execution_count": 197,
   "metadata": {},
   "outputs": [
    {
     "data": {
      "text/plain": [
       "array([[ 9., -6.,  3.],\n",
       "       [-6., 29., -7.],\n",
       "       [ 3., -7., 18.]])"
      ]
     },
     "execution_count": 197,
     "metadata": {},
     "output_type": "execute_result"
    }
   ],
   "source": [
    "# prova real\n",
    "np.dot(G,GT)"
   ]
  },
  {
   "cell_type": "markdown",
   "metadata": {},
   "source": [
    "#### b) Usando o código do item (a), escreva uma função $[x] = sistemaLinear2(A, b)$ que recebe uma matriz $A\\in R_{nxn}$ simétrica positiva definida e um vetor $b\\in R^{n}$ e retorna a solução $x$ do sistema linear $Ax = b$."
   ]
  },
  {
   "cell_type": "code",
   "execution_count": 199,
   "metadata": {},
   "outputs": [],
   "source": [
    "def sistemaLinear2(A,b):\n",
    "    # G(GTx) = b\n",
    "    G = fatoracaoCholesky(A)\n",
    "    GT = np.transpose(G)\n",
    "    \n",
    "    # Gy = b \n",
    "    y = substituicao_direta(G,b)\n",
    "    \n",
    "    # GTx = y\n",
    "    x = substituicao_retroativa(GT, y)\n",
    "    return x"
   ]
  },
  {
   "cell_type": "markdown",
   "metadata": {},
   "source": [
    "#### c) Usando os códigos dos itens (a) e (b), calcule a fatoração de Cholesky da matriz A = [[1, 7, 12], [7, 53, 90], [12, 90, 162]] e resolva o sistema linear $Ax = b$ com $b = [51, 383, 678]^{T}$"
   ]
  },
  {
   "cell_type": "code",
   "execution_count": 209,
   "metadata": {},
   "outputs": [
    {
     "data": {
      "text/plain": [
       "(array([[  1,   7,  12],\n",
       "        [  7,  53,  90],\n",
       "        [ 12,  90, 162]]),\n",
       " array([[ 51],\n",
       "        [383],\n",
       "        [678]]))"
      ]
     },
     "execution_count": 209,
     "metadata": {},
     "output_type": "execute_result"
    }
   ],
   "source": [
    "A = np.array([[1, 7, 12], [7, 53, 90], [12, 90, 162]])\n",
    "b = np.array([[51],[383],[678]])\n",
    "A,b"
   ]
  },
  {
   "cell_type": "markdown",
   "metadata": {},
   "source": [
    "Fatoração de Cholesky da matriz A:"
   ]
  },
  {
   "cell_type": "code",
   "execution_count": 205,
   "metadata": {},
   "outputs": [
    {
     "data": {
      "text/plain": [
       "array([[ 1.,  0.,  0.],\n",
       "       [ 7.,  2.,  0.],\n",
       "       [12.,  3.,  3.]])"
      ]
     },
     "execution_count": 205,
     "metadata": {},
     "output_type": "execute_result"
    }
   ],
   "source": [
    "C = fatoracaoCholesky(A)\n",
    "C"
   ]
  },
  {
   "cell_type": "code",
   "execution_count": 206,
   "metadata": {},
   "outputs": [
    {
     "data": {
      "text/plain": [
       "array([[  1.,   7.,  12.],\n",
       "       [  7.,  53.,  90.],\n",
       "       [ 12.,  90., 162.]])"
      ]
     },
     "execution_count": 206,
     "metadata": {},
     "output_type": "execute_result"
    }
   ],
   "source": [
    "# prova real\n",
    "np.dot(C, np.transpose(C))"
   ]
  },
  {
   "cell_type": "markdown",
   "metadata": {},
   "source": [
    "Solução do sistema linear $Ax = b$ com $b = [51, 383, 678]^{T}$"
   ]
  },
  {
   "cell_type": "code",
   "execution_count": 211,
   "metadata": {},
   "outputs": [
    {
     "data": {
      "text/plain": [
       "array([[1.],\n",
       "       [2.],\n",
       "       [3.]])"
      ]
     },
     "execution_count": 211,
     "metadata": {},
     "output_type": "execute_result"
    }
   ],
   "source": [
    "x = sistemaLinear2(A,b)\n",
    "x"
   ]
  },
  {
   "cell_type": "code",
   "execution_count": 212,
   "metadata": {},
   "outputs": [
    {
     "data": {
      "text/plain": [
       "array([[ 51.],\n",
       "       [383.],\n",
       "       [678.]])"
      ]
     },
     "execution_count": 212,
     "metadata": {},
     "output_type": "execute_result"
    }
   ],
   "source": [
    "# prova real\n",
    "np.dot(A,x)"
   ]
  }
 ],
 "metadata": {
  "kernelspec": {
   "display_name": "Python 3",
   "language": "python",
   "name": "python3"
  },
  "language_info": {
   "codemirror_mode": {
    "name": "ipython",
    "version": 3
   },
   "file_extension": ".py",
   "mimetype": "text/x-python",
   "name": "python",
   "nbconvert_exporter": "python",
   "pygments_lexer": "ipython3",
   "version": "3.8.5"
  }
 },
 "nbformat": 4,
 "nbformat_minor": 4
}
